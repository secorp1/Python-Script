{
 "cells": [
  {
   "cell_type": "code",
   "execution_count": 11,
   "id": "99907d90-02c4-4350-846f-21aac9e5df31",
   "metadata": {},
   "outputs": [],
   "source": [
    "import csv\n",
    "import os\n",
    "\n",
    "\n",
    "\n",
    "file_to_load = os.path.join(\".\", \"Resources\", \"election_data.csv\")\n",
    "\n",
    "file_to_load"
   ]
  },
  {
   "cell_type": "code",
   "execution_count": null,
   "id": "6a42262c-2b8b-4da1-8315-667f1ab8fd22",
   "metadata": {},
   "outputs": [],
   "source": []
  },
  {
   "cell_type": "code",
   "execution_count": null,
   "id": "c38d2542-1af6-4a47-9862-978c449e1b0e",
   "metadata": {},
   "outputs": [],
   "source": []
  }
 ],
 "metadata": {
  "kernelspec": {
   "display_name": "Python 3 (ipykernel)",
   "language": "python",
   "name": "python3"
  },
  "language_info": {
   "codemirror_mode": {
    "name": "ipython",
    "version": 3
   },
   "file_extension": ".py",
   "mimetype": "text/x-python",
   "name": "python",
   "nbconvert_exporter": "python",
   "pygments_lexer": "ipython3",
   "version": "3.11.7"
  }
 },
 "nbformat": 4,
 "nbformat_minor": 5
}
